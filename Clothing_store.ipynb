{
 "cells": [
  {
   "cell_type": "markdown",
   "id": "ecc847b6",
   "metadata": {},
   "source": [
    "# 👚Clothing Store 👖  \n",
    "--------------------------------------------------------------------------------------\n",
    "\n",
    "### Create a clothing store management system"
   ]
  },
  {
   "cell_type": "code",
   "execution_count": 1,
   "id": "5058fe5e",
   "metadata": {},
   "outputs": [],
   "source": [
    "# Create a list to store the inventory\n",
    "inventory = []\n",
    "# Create a dictionary to store the customers\n",
    "customers = {}\n",
    "# Create a variable to store the total sales\n",
    "total_sales = 0.0"
   ]
  },
  {
   "cell_type": "code",
   "execution_count": 2,
   "id": "f0b22072",
   "metadata": {},
   "outputs": [
    {
     "name": "stdout",
     "output_type": "stream",
     "text": [
      "[]\n"
     ]
    }
   ],
   "source": [
    "# Print the inventory\n",
    "print(inventory)"
   ]
  },
  {
   "cell_type": "markdown",
   "id": "e127337e",
   "metadata": {},
   "source": [
    "## Inventory functions\n",
    "\n"
   ]
  },
  {
   "cell_type": "code",
   "execution_count": 3,
   "id": "56dbfc65",
   "metadata": {},
   "outputs": [],
   "source": [
    "# Function to add a new product to the inventory\n",
    "def add_product(name: str, price: float, quantity: int):\n",
    "    found = False                                               #Create a boolean to exit the loop when item is found       \n",
    "    for product in inventory:                                   #Iterate through each product in the inventory, if it exists, add quantity\n",
    "        if product['name'].lower() == name.lower():\n",
    "            product['quantity'] += int(quantity)\n",
    "            print(f\"Product {name} already exists. Stock updated: {product['quantity']}\") #Print the product name and the new stock\n",
    "            found = True\n",
    "            break\n",
    "    if not found:\n",
    "        inventory.append({'name': str(name), 'price': float(price), 'quantity': int(quantity)}) #Add the new product to the inventory\n",
    "        print(\"New product.\")\n",
    "        print(f\"Product {name} added successfully. Stock: {quantity}.\") #Print the product name and the new stock"
   ]
  },
  {
   "cell_type": "code",
   "execution_count": 4,
   "id": "c94f73e5",
   "metadata": {},
   "outputs": [
    {
     "ename": "NameError",
     "evalue": "name 'Shirt' is not defined",
     "output_type": "error",
     "traceback": [
      "\u001b[1;31m---------------------------------------------------------------------------\u001b[0m",
      "\u001b[1;31mNameError\u001b[0m                                 Traceback (most recent call last)",
      "Cell \u001b[1;32mIn[4], line 2\u001b[0m\n\u001b[0;32m      1\u001b[0m \u001b[38;5;66;03m# Example of adding a new product with errors\u001b[39;00m\n\u001b[1;32m----> 2\u001b[0m add_product(Shirt, \u001b[38;5;241m20\u001b[39m, \u001b[38;5;241m40\u001b[39m)\n",
      "\u001b[1;31mNameError\u001b[0m: name 'Shirt' is not defined"
     ]
    }
   ],
   "source": [
    "# Example of adding a new product with errors\n",
    "add_product(Shirt, 20, 40)"
   ]
  },
  {
   "cell_type": "code",
   "execution_count": 5,
   "id": "1cd03034",
   "metadata": {},
   "outputs": [
    {
     "name": "stdout",
     "output_type": "stream",
     "text": [
      "New product.\n",
      "Product Shirt added successfully. Stock: 40.\n"
     ]
    }
   ],
   "source": [
    "# Example of adding a new product\n",
    "add_product(\"Shirt\", 20, 40)                          "
   ]
  },
  {
   "cell_type": "code",
   "execution_count": 6,
   "id": "bb71bdef",
   "metadata": {},
   "outputs": [
    {
     "name": "stdout",
     "output_type": "stream",
     "text": [
      "New product.\n",
      "Product Socks added successfully. Stock: 5.\n"
     ]
    }
   ],
   "source": [
    "# Example of another new product\n",
    "add_product(\"Socks\", 10, 5)"
   ]
  },
  {
   "cell_type": "code",
   "execution_count": 7,
   "id": "6f439cc3",
   "metadata": {},
   "outputs": [
    {
     "data": {
      "text/plain": [
       "[{'name': 'Shirt', 'price': 20.0, 'quantity': 40},\n",
       " {'name': 'Socks', 'price': 10.0, 'quantity': 5}]"
      ]
     },
     "execution_count": 7,
     "metadata": {},
     "output_type": "execute_result"
    }
   ],
   "source": [
    "inventory"
   ]
  },
  {
   "cell_type": "code",
   "execution_count": 8,
   "id": "7fc50a1a",
   "metadata": {},
   "outputs": [
    {
     "name": "stdout",
     "output_type": "stream",
     "text": [
      "Product Socks already exists. Stock updated: 10\n"
     ]
    }
   ],
   "source": [
    "# Example of product already in inventory\n",
    "add_product(\"Socks\", 10, 5)"
   ]
  },
  {
   "cell_type": "code",
   "execution_count": 9,
   "id": "2ebe63cd",
   "metadata": {},
   "outputs": [
    {
     "name": "stdout",
     "output_type": "stream",
     "text": [
      "[{'name': 'Shirt', 'price': 20.0, 'quantity': 40}, {'name': 'Socks', 'price': 10.0, 'quantity': 10}]\n"
     ]
    }
   ],
   "source": [
    "print(inventory)"
   ]
  },
  {
   "cell_type": "code",
   "execution_count": 10,
   "id": "fdd6fa80",
   "metadata": {},
   "outputs": [
    {
     "name": "stdout",
     "output_type": "stream",
     "text": [
      "New product.\n",
      "Product Pants added successfully. Stock: 15.\n",
      "New product.\n",
      "Product Dress added successfully. Stock: 22.\n",
      "New product.\n",
      "Product Bikini added successfully. Stock: 13.\n"
     ]
    }
   ],
   "source": [
    "# Examples of adding products\n",
    "add_product(\"Pants\", 20, 15)\n",
    "add_product(\"Dress\", 15, 22)\n",
    "add_product(\"Bikini\", 16, 13)"
   ]
  },
  {
   "cell_type": "code",
   "execution_count": 11,
   "id": "b3c7e6ab",
   "metadata": {},
   "outputs": [
    {
     "data": {
      "text/plain": [
       "[{'name': 'Shirt', 'price': 20.0, 'quantity': 40},\n",
       " {'name': 'Socks', 'price': 10.0, 'quantity': 10},\n",
       " {'name': 'Pants', 'price': 20.0, 'quantity': 15},\n",
       " {'name': 'Dress', 'price': 15.0, 'quantity': 22},\n",
       " {'name': 'Bikini', 'price': 16.0, 'quantity': 13}]"
      ]
     },
     "execution_count": 11,
     "metadata": {},
     "output_type": "execute_result"
    }
   ],
   "source": [
    "inventory"
   ]
  },
  {
   "cell_type": "code",
   "execution_count": 12,
   "id": "dfdb5f2d",
   "metadata": {},
   "outputs": [],
   "source": [
    "# Function to view the inventory\n",
    "def view_inventory():\n",
    "    print(\" \")\n",
    "    print(\"             INVENTORY\")\n",
    "    print(\" \")\n",
    "    for product in inventory:\n",
    "        print(f\"Name: {product['name']}, Price: ${product['price']}, Quantity: {product['quantity']}\")"
   ]
  },
  {
   "cell_type": "code",
   "execution_count": 13,
   "id": "1f16ab1e",
   "metadata": {},
   "outputs": [
    {
     "name": "stdout",
     "output_type": "stream",
     "text": [
      " \n",
      "             INVENTORY\n",
      " \n",
      "Name: Shirt, Price: $20.0, Quantity: 40\n",
      "Name: Socks, Price: $10.0, Quantity: 10\n",
      "Name: Pants, Price: $20.0, Quantity: 15\n",
      "Name: Dress, Price: $15.0, Quantity: 22\n",
      "Name: Bikini, Price: $16.0, Quantity: 13\n"
     ]
    }
   ],
   "source": [
    "# View the inventory\n",
    "view_inventory()"
   ]
  },
  {
   "cell_type": "code",
   "execution_count": 14,
   "id": "f1ffafbc",
   "metadata": {},
   "outputs": [],
   "source": [
    "# Function to search for a product in the inventory\n",
    "def search_product(name):\n",
    "    found = False\n",
    "    for product in inventory:\n",
    "        if name.lower() == product['name'].lower():\n",
    "            print(\"Product found!\")\n",
    "            print(f\"Name: {product['name']}, Price: ${product['price']}, Quantity: {product['quantity']}\")\n",
    "            found = True\n",
    "            break\n",
    "    if not found:\n",
    "        print(f\"{name} not found in inventory.\")   "
   ]
  },
  {
   "cell_type": "code",
   "execution_count": 15,
   "id": "afe80011",
   "metadata": {},
   "outputs": [
    {
     "name": "stdout",
     "output_type": "stream",
     "text": [
      "Product found!\n",
      "Name: Socks, Price: $10.0, Quantity: 10\n"
     ]
    }
   ],
   "source": [
    "# Search for a product\n",
    "search_product(\"SocKs\")"
   ]
  },
  {
   "cell_type": "code",
   "execution_count": 16,
   "id": "957ed9f6",
   "metadata": {},
   "outputs": [
    {
     "name": "stdout",
     "output_type": "stream",
     "text": [
      "Tie not found in inventory.\n"
     ]
    }
   ],
   "source": [
    "# Search for a product not in inventory\n",
    "search_product(\"Tie\")"
   ]
  },
  {
   "cell_type": "code",
   "execution_count": 17,
   "id": "bb02607e",
   "metadata": {},
   "outputs": [],
   "source": [
    "# Function to update the stock of a product\n",
    "def update_stock(name, quantity):\n",
    "    found = False\n",
    "    for product in inventory:\n",
    "        if name.lower() == product['name'].lower():\n",
    "            product['quantity'] += quantity\n",
    "            print(f\"Product: {name.capitalize()}. Current stock: {product['quantity']}. Updated.\")\n",
    "            found = True\n",
    "            break\n",
    "    if not found:\n",
    "        print(\"Product not registered in inventory.\\nCheck the name or add a new product.\")"
   ]
  },
  {
   "cell_type": "code",
   "execution_count": 18,
   "id": "861a9920",
   "metadata": {},
   "outputs": [
    {
     "name": "stdout",
     "output_type": "stream",
     "text": [
      "Product: Bikini. Current stock: 19. Updated.\n"
     ]
    }
   ],
   "source": [
    "# Update the stock of a product\n",
    "update_stock(\"Bikini\", 6)"
   ]
  },
  {
   "cell_type": "code",
   "execution_count": 19,
   "id": "813e6535",
   "metadata": {},
   "outputs": [
    {
     "name": "stdout",
     "output_type": "stream",
     "text": [
      "Product not registered in inventory.\n",
      "Check the name or add a new product.\n"
     ]
    }
   ],
   "source": [
    "# Update the stock of a product not in inventory\n",
    "update_stock(\"Shorts\", 6)"
   ]
  },
  {
   "cell_type": "code",
   "execution_count": 20,
   "id": "1ef7b959",
   "metadata": {},
   "outputs": [
    {
     "name": "stdout",
     "output_type": "stream",
     "text": [
      "Product: Socks. Current stock: 8. Updated.\n"
     ]
    }
   ],
   "source": [
    "# Update the stock of a product\n",
    "update_stock(\"Socks\", -2)"
   ]
  },
  {
   "cell_type": "code",
   "execution_count": 21,
   "id": "52a06de2",
   "metadata": {},
   "outputs": [
    {
     "name": "stdout",
     "output_type": "stream",
     "text": [
      " \n",
      "             INVENTORY\n",
      " \n",
      "Name: Shirt, Price: $20.0, Quantity: 40\n",
      "Name: Socks, Price: $10.0, Quantity: 8\n",
      "Name: Pants, Price: $20.0, Quantity: 15\n",
      "Name: Dress, Price: $15.0, Quantity: 22\n",
      "Name: Bikini, Price: $16.0, Quantity: 19\n"
     ]
    }
   ],
   "source": [
    "# View the inventory\n",
    "view_inventory()"
   ]
  },
  {
   "cell_type": "code",
   "execution_count": 22,
   "id": "4ce33fe1",
   "metadata": {},
   "outputs": [],
   "source": [
    "# Function to delete a product from the inventory\n",
    "def delete_product(name):\n",
    "    found = False\n",
    "    for product in inventory:\n",
    "        if name.lower() == product['name'].lower():\n",
    "            inventory.remove(product)\n",
    "            found = True\n",
    "            print(f\"Product: {name}.\\nRemoved from inventory\")\n",
    "    if not found:\n",
    "        print(f\"Product: {name}. Not in inventory.\")"
   ]
  },
  {
   "cell_type": "code",
   "execution_count": 23,
   "id": "8ee7089f",
   "metadata": {},
   "outputs": [
    {
     "name": "stdout",
     "output_type": "stream",
     "text": [
      "Product: Bikini.\n",
      "Removed from inventory\n"
     ]
    }
   ],
   "source": [
    "# Delete a product from the inventory\n",
    "delete_product(\"Bikini\")"
   ]
  },
  {
   "cell_type": "code",
   "execution_count": 24,
   "id": "6c058855",
   "metadata": {},
   "outputs": [
    {
     "name": "stdout",
     "output_type": "stream",
     "text": [
      " \n",
      "             INVENTORY\n",
      " \n",
      "Name: Shirt, Price: $20.0, Quantity: 40\n",
      "Name: Socks, Price: $10.0, Quantity: 8\n",
      "Name: Pants, Price: $20.0, Quantity: 15\n",
      "Name: Dress, Price: $15.0, Quantity: 22\n"
     ]
    }
   ],
   "source": [
    "# View the inventory\n",
    "view_inventory()"
   ]
  },
  {
   "cell_type": "code",
   "execution_count": 25,
   "id": "0c7038c4",
   "metadata": {},
   "outputs": [
    {
     "name": "stdout",
     "output_type": "stream",
     "text": [
      "Product: Bikini. Not in inventory.\n"
     ]
    }
   ],
   "source": [
    "# Delete a product not in inventory\n",
    "delete_product(\"Bikini\")"
   ]
  },
  {
   "cell_type": "code",
   "execution_count": 26,
   "id": "9a45610e",
   "metadata": {},
   "outputs": [
    {
     "name": "stdout",
     "output_type": "stream",
     "text": [
      " \n",
      "             INVENTORY\n",
      " \n",
      "Name: Shirt, Price: $20.0, Quantity: 40\n",
      "Name: Socks, Price: $10.0, Quantity: 8\n",
      "Name: Pants, Price: $20.0, Quantity: 15\n",
      "Name: Dress, Price: $15.0, Quantity: 22\n"
     ]
    }
   ],
   "source": [
    "# View the inventory\n",
    "view_inventory()"
   ]
  },
  {
   "cell_type": "code",
   "execution_count": 27,
   "id": "a3f936b4",
   "metadata": {},
   "outputs": [],
   "source": [
    "# Function to calculate the total value of the inventory\n",
    "def calculate_inventory_value():\n",
    "    total = 0\n",
    "    for product in inventory:\n",
    "        total += (product['price'] * product['quantity'])\n",
    "    print(f\"The total value of the inventory is: ${round(total)}.\")"
   ]
  },
  {
   "cell_type": "code",
   "execution_count": 28,
   "id": "e5cdbebc",
   "metadata": {},
   "outputs": [
    {
     "name": "stdout",
     "output_type": "stream",
     "text": [
      "The total value of the inventory is: $1510.\n"
     ]
    }
   ],
   "source": [
    "# Calculate the total value of the inventory\n",
    "calculate_inventory_value()"
   ]
  },
  {
   "cell_type": "markdown",
   "id": "bea4f81e",
   "metadata": {},
   "source": [
    "## Customer functions"
   ]
  },
  {
   "cell_type": "code",
   "execution_count": 32,
   "id": "3438addc",
   "metadata": {},
   "outputs": [],
   "source": [
    "# Function to add a customer to the store\n",
    "def add_customer(name, email):\n",
    "    if name.lower() not in customers:\n",
    "        customers[name.lower()] = {'email': email, 'purchases': []}\n",
    "        print(f\"Customer {name} registered successfully.\")\n",
    "        print(f\"Email: {email}\")\n",
    "    else:\n",
    "        print(f\"Customer {name} is already registered.\")"
   ]
  },
  {
   "cell_type": "code",
   "execution_count": 33,
   "id": "657c344c",
   "metadata": {},
   "outputs": [
    {
     "name": "stdout",
     "output_type": "stream",
     "text": [
      "Customer John registered successfully.\n",
      "Email: john@email.com\n"
     ]
    }
   ],
   "source": [
    "# Add a customer\n",
    "add_customer(\"John\", \"john@email.com\")"
   ]
  },
  {
   "cell_type": "code",
   "execution_count": 34,
   "id": "c00b3164",
   "metadata": {},
   "outputs": [
    {
     "name": "stdout",
     "output_type": "stream",
     "text": [
      "Customer John is already registered.\n"
     ]
    }
   ],
   "source": [
    "# Try to add a customer that is already registered\n",
    "add_customer(\"John\", \"john@email.com\")"
   ]
  },
  {
   "cell_type": "code",
   "execution_count": 35,
   "id": "47a17922",
   "metadata": {},
   "outputs": [
    {
     "data": {
      "text/plain": [
       "{'john': {'email': 'john@email.com', 'purchases': []}}"
      ]
     },
     "execution_count": 35,
     "metadata": {},
     "output_type": "execute_result"
    }
   ],
   "source": [
    "# Show the customers structure\n",
    "customers"
   ]
  },
  {
   "cell_type": "code",
   "execution_count": 36,
   "id": "bcfa1fc4",
   "metadata": {},
   "outputs": [],
   "source": [
    "# Function to view all customers\n",
    "def view_customers():\n",
    "    print(\"\\n              CUSTOMERS\\n\")\n",
    "    for customer, data in customers.items():\n",
    "        print(f\"Name: {customer}, Email: {data['email']}\")"
   ]
  },
  {
   "cell_type": "code",
   "execution_count": 37,
   "id": "6d1ef104",
   "metadata": {},
   "outputs": [
    {
     "name": "stdout",
     "output_type": "stream",
     "text": [
      "\n",
      "              CUSTOMERS\n",
      "\n",
      "Name: john, Email: john@email.com\n"
     ]
    }
   ],
   "source": [
    "# View all customers\n",
    "view_customers()"
   ]
  },
  {
   "cell_type": "markdown",
   "id": "2820d865",
   "metadata": {},
   "source": [
    "## Purchase and sales functions"
   ]
  },
  {
   "cell_type": "code",
   "execution_count": 38,
   "id": "735d0ffd",
   "metadata": {},
   "outputs": [],
   "source": [
    "# Create an empty list to store the purchase log\n",
    "purchase_log = []"
   ]
  },
  {
   "cell_type": "code",
   "execution_count": 39,
   "id": "6b2c4b99",
   "metadata": {},
   "outputs": [],
   "source": [
    "# Function to register a purchase for a customer\n",
    "def register_purchase(customer_name, cart):\n",
    "    global total_sales, purchase_log\n",
    "    customer_name = customer_name.lower()\n",
    "\n",
    "    # Calculate the total of the purchase\n",
    "    purchase_total = 0\n",
    "    for product, details in cart.items():\n",
    "        purchase_total += details['price'] * details['quantity']\n",
    "\n",
    "    # Search customer in dictionary and add the purchase to the list of purchases\n",
    "    if customer_name in customers:\n",
    "        # Add the purchase to the customer\n",
    "        customers[customer_name]['purchases'].append({'products': cart, 'total': purchase_total})\n",
    "        print(f\"Purchase registered for customer {customer_name.capitalize()}\")\n",
    "\n",
    "        # Print details of the purchase\n",
    "        print(\"\\nPurchase details:\\n\")\n",
    "        for product, details in cart.items():\n",
    "            print(f\"{product}: ${details['price']} x {details['quantity']} = ${details['price'] * details['quantity']}\")\n",
    "        print(f\"\\nTotal purchase: ${purchase_total}\")\n",
    "\n",
    "        # Update total sales\n",
    "        total_sales += purchase_total\n",
    "        print(f\"\\nTotal sales: ${total_sales} in the store\")\n",
    "\n",
    "        # Add the purchase to the purchase log\n",
    "        purchase_log.append({'customer': customer_name, 'products': cart, 'total': purchase_total})\n",
    "        print(f\"Purchase log updated: {len(purchase_log)} purchases registered.\")\n",
    "    else:\n",
    "        print(f\"Customer {customer_name.capitalize()} is not registered.\\nPlease register the customer.\\n\")"
   ]
  },
  {
   "cell_type": "code",
   "execution_count": 40,
   "id": "d1f5bc37",
   "metadata": {},
   "outputs": [
    {
     "name": "stdout",
     "output_type": "stream",
     "text": [
      "Purchase registered for customer John\n",
      "\n",
      "Purchase details:\n",
      "\n",
      "Shirt: $20 x 2 = $40\n",
      "Socks: $10 x 5 = $50\n",
      "\n",
      "Total purchase: $90\n",
      "\n",
      "Total sales: $90.0 in the store\n",
      "Purchase log updated: 1 purchases registered.\n"
     ]
    }
   ],
   "source": [
    "# Example of a purchase\n",
    "cart = {'Shirt': {'price': 20, 'quantity': 2}, 'Socks': {'price': 10, 'quantity': 5}}\n",
    "register_purchase(\"John\", cart)\n"
   ]
  },
  {
   "cell_type": "code",
   "execution_count": 41,
   "id": "17b605b7",
   "metadata": {},
   "outputs": [
    {
     "name": "stdout",
     "output_type": "stream",
     "text": [
      "Customer Alice is not registered.\n",
      "Please register the customer.\n",
      "\n"
     ]
    }
   ],
   "source": [
    "# Example of a purchase with a customer that is not registered\n",
    "cart = {'Shirt': {'price': 20, 'quantity': 2}, 'Socks': {'price': 10, 'quantity': 5}}\n",
    "register_purchase(\"Alice\", cart)\n"
   ]
  },
  {
   "cell_type": "code",
   "execution_count": 42,
   "id": "ac099fdc",
   "metadata": {},
   "outputs": [
    {
     "name": "stdout",
     "output_type": "stream",
     "text": [
      "Purchase registered for customer John\n",
      "\n",
      "Purchase details:\n",
      "\n",
      "Dress: $15 x 3 = $45\n",
      "Scarf: $10.5 x 2 = $21.0\n",
      "\n",
      "Total purchase: $66.0\n",
      "\n",
      "Total sales: $156.0 in the store\n",
      "Purchase log updated: 2 purchases registered.\n"
     ]
    }
   ],
   "source": [
    "# Example of another purchase\n",
    "cart = {'Dress': {'price': 15, 'quantity': 3}, 'Scarf': {'price': 10.5, 'quantity': 2}}\n",
    "register_purchase(\"John\", cart)"
   ]
  },
  {
   "cell_type": "code",
   "execution_count": 43,
   "id": "12834176",
   "metadata": {},
   "outputs": [],
   "source": [
    "# Function to view the purchases of a customer\n",
    "def view_customer_purchases(customer_name):\n",
    "    customer_name = customer_name.lower()\n",
    "    # Check if the client is registered\n",
    "    if customer_name in customers:\n",
    "        # Show purchases\n",
    "        for purchase in customers[customer_name]['purchases']:\n",
    "            # Check if the purchase has the correct format (the first purchases did not have the total for example)\n",
    "            if isinstance(purchase, dict) and 'products' in purchase and 'total' in purchase:\n",
    "                print(f\"\\nPurchase details:\\n\")\n",
    "                for product, details in purchase['products'].items():\n",
    "                    print(f\"{product}: ${details['price']} x {details['quantity']} = ${details['price'] * details['quantity']}\")\n",
    "                print(f\"\\nTotal purchase: ${purchase['total']}\")\n",
    "            else:\n",
    "                print(\"Purchase with incorrect format, cannot display:\", purchase) # Purchases with incorrect format\n",
    "    else:\n",
    "        print(f\"Customer {customer_name.capitalize()} is not registered.\\nPlease register the customer.\\n\") # Client not registered"
   ]
  },
  {
   "cell_type": "code",
   "execution_count": 44,
   "id": "40aade05",
   "metadata": {},
   "outputs": [
    {
     "name": "stdout",
     "output_type": "stream",
     "text": [
      "\n",
      "Purchase details:\n",
      "\n",
      "Shirt: $20 x 2 = $40\n",
      "Socks: $10 x 5 = $50\n",
      "\n",
      "Total purchase: $90\n",
      "\n",
      "Purchase details:\n",
      "\n",
      "Dress: $15 x 3 = $45\n",
      "Scarf: $10.5 x 2 = $21.0\n",
      "\n",
      "Total purchase: $66.0\n"
     ]
    }
   ],
   "source": [
    "# View the purchases of a customer\n",
    "view_customer_purchases(\"John\")"
   ]
  },
  {
   "cell_type": "code",
   "execution_count": 45,
   "id": "70f2fdd7",
   "metadata": {},
   "outputs": [
    {
     "name": "stdout",
     "output_type": "stream",
     "text": [
      "Customer Alice is not registered.\n",
      "Please register the customer.\n",
      "\n"
     ]
    }
   ],
   "source": [
    "# View the purchases of a customer not registered\n",
    "view_customer_purchases(\"Alice\")"
   ]
  },
  {
   "cell_type": "code",
   "execution_count": 46,
   "id": "505ef6ae",
   "metadata": {},
   "outputs": [],
   "source": [
    "# Function to calculate the total sales\n",
    "def calculate_total_sales():\n",
    "    return f\"Total sales in the store: ${total_sales}\""
   ]
  },
  {
   "cell_type": "code",
   "execution_count": 47,
   "id": "a68e85a2",
   "metadata": {},
   "outputs": [
    {
     "data": {
      "text/plain": [
       "'Total sales in the store: $156.0'"
      ]
     },
     "execution_count": 47,
     "metadata": {},
     "output_type": "execute_result"
    }
   ],
   "source": [
    "# Calculate total sales\n",
    "calculate_total_sales()"
   ]
  },
  {
   "cell_type": "markdown",
   "id": "f82dbc46",
   "metadata": {},
   "source": [
    "## Interactive functions"
   ]
  },
  {
   "cell_type": "code",
   "execution_count": 29,
   "id": "3aeb2adc",
   "metadata": {},
   "outputs": [],
   "source": [
    "# Function to process payment\n",
    "def process_payment(purchase_total):\n",
    "    while True:\n",
    "        try:\n",
    "            amount_paid = float(input(f\"Your total is ${round(purchase_total, 2)}. How much money do you have?\\n\"))\n",
    "            print(f\"The amount entered is ${round(amount_paid, 2)}\")\n",
    "            if amount_paid <= 0:\n",
    "                raise ValueError(\"The amount paid must be greater than 0.\")\n",
    "            if amount_paid < purchase_total:\n",
    "                print(f\"\\nThe amount paid is insufficient. You are missing ${round(purchase_total - amount_paid, 2)}\")\n",
    "                continue  # allows to try again\n",
    "            break  # Exit the loop if the amount paid is valid\n",
    "        except ValueError as e:\n",
    "            print(f\"Please enter a valid number. {e}\")\n",
    "\n",
    "    # Calculate the change and show it with a message of successful purchase\n",
    "    change = amount_paid - purchase_total\n",
    "    print(f\"\\nThank you for your payment of ${round(amount_paid, 2)}. Your change is ${round(change, 2)}.\")\n",
    "    print(\"Your purchase was successful.\")"
   ]
  },
  {
   "cell_type": "code",
   "execution_count": 48,
   "id": "2ed25951",
   "metadata": {},
   "outputs": [],
   "source": [
    "def make_purchase():\n",
    "    # Enter the customer to the store\n",
    "    customer = input(\"Hello! =) What is your name?\\n\")\n",
    "    print(f\"Welcome to the store, {customer.capitalize()}!\\nYou can exit at any time by typing 'exit'.\")\n",
    "\n",
    "    shopping = True\n",
    "    cart = []\n",
    "    total = 0\n",
    "\n",
    "    while shopping:\n",
    "        print(\"\\nAVAILABLE PRODUCTS\")\n",
    "        for item in inventory:\n",
    "            print(f\"{item['name']} - ${item['price']} - {item['quantity']} units\")\n",
    "        print(\"   \")\n",
    "\n",
    "        product = input(f\"\\n{customer.capitalize()}, what product would you like to buy?\\n(Type 'exit' to leave)\\n\")\n",
    "\n",
    "        # If you want to leave\n",
    "        if product.lower() == \"exit\":\n",
    "            if len(cart) > 0:\n",
    "                print(\"\\nYou have products in your cart.\")\n",
    "                confirm = input(\"Do you want to finish the purchase and pay (yes) or exit without buying (no)?\\n\").lower()\n",
    "                if confirm in [\"yes\", \"y\"]:\n",
    "                    print(\"\\nYour purchase summary:\\n\")\n",
    "                    for item in cart:\n",
    "                        print(f\"{item['name']} - {item['quantity']} units - ${item['price'] * item['quantity']}\")\n",
    "                    print(f\"\\nYour total is ${total}\")\n",
    "                    process_payment(total)\n",
    "                    print(f\"\\nThank you for your purchase, come back soon {customer.capitalize()}!\")\n",
    "                    shopping = False\n",
    "                    return\n",
    "                else:\n",
    "                    print(f\"You exited without buying, {customer.capitalize()}. See you soon!\")\n",
    "                    return\n",
    "            else:\n",
    "                print(f\"\\nThank you for visiting, {customer.capitalize()}!\")\n",
    "                return\n",
    "\n",
    "        if product == \"\":\n",
    "            print(\"Please enter a product name.\")\n",
    "            continue\n",
    "        \n",
    "        # Check if the product is in the inventory\n",
    "        found = False\n",
    "        for item in inventory:\n",
    "            if product.lower() == item['name'].lower():\n",
    "                found = True\n",
    "                break\n",
    "\n",
    "        if not found:\n",
    "            print(\" \")\n",
    "            print(f\"The product {product.capitalize()} is not available in the store.\")\n",
    "            print(\"Please choose another product.\")\n",
    "            continue\n",
    "\n",
    "        # If the product is in the list\n",
    "        quantity = input(f\"How many units of {product.capitalize()} would you like to buy? \")\n",
    "\n",
    "        # If customer wants to leave\n",
    "        if quantity.lower() == \"exit\":\n",
    "            if len(cart) > 0:\n",
    "                print(\" \")\n",
    "                print(\"You have products in your cart.\")\n",
    "                confirm = input(\"Do you want to finish the purchase and pay (yes) or exit without buying (no)?\\n\").lower()\n",
    "                # After the user confirms the purchase in make_purchase:\n",
    "                if confirm in [\"yes\", \"y\"]:\n",
    "                    print(\"\\nYour purchase summary:\\n\")\n",
    "                    for item in cart:\n",
    "                        print(f\"{item['name']} - {item['quantity']} units - ${item['price'] * item['quantity']}\")\n",
    "                    print(f\"\\nYour total is ${total}\")\n",
    "                    process_payment(total)\n",
    "                    print(f\"\\nThank you for your purchase, come back soon {customer.capitalize()}!\")\n",
    "                    shopping = False\n",
    "                    return\n",
    "                else:\n",
    "                    print(f\"You exited without buying, {customer.capitalize()}. See you soon!\")\n",
    "                    return\n",
    "            else:\n",
    "                print(f\"\\nThank you for visiting, {customer.capitalize()}!\")\n",
    "                return\n",
    "\n",
    "        if quantity == \"\":\n",
    "            print(\" \")\n",
    "            print(\"Please enter a value.\")\n",
    "            continue\n",
    "\n",
    "        if not quantity.isdigit() or int(quantity) <= 0:\n",
    "            print(\" \")\n",
    "            print(\"Please enter a valid quantity. A number greater than 0.\")\n",
    "            continue\n",
    "\n",
    "        quantity = int(quantity)\n",
    "\n",
    "        # Check if there is enough stock\n",
    "        for item in inventory:\n",
    "            if item['name'].lower() == product.lower():\n",
    "                if quantity > item['quantity']:\n",
    "                    print(\" \")\n",
    "                    print(f\"Sorry, we don't have enough units of {product}.\")\n",
    "                else:\n",
    "                    update_stock(product, -quantity)  # Update stock\n",
    "\n",
    "                    # Update cart\n",
    "                    for element in cart:\n",
    "                        if element['name'].lower() == product.lower():\n",
    "                            element['quantity'] += quantity\n",
    "                            break\n",
    "                    else:\n",
    "                        cart.append({'name': product.capitalize(), 'price': item['price'], 'quantity': quantity})\n",
    "\n",
    "                    # Update total\n",
    "                    total += item['price'] * quantity\n",
    "                    print(\" \")\n",
    "                    print(f\"You added {quantity} units of {product.capitalize()} to the cart.\")\n",
    "\n",
    "                    # Show list of products in the cart\n",
    "                    print(\" \")\n",
    "                    print(\"PRODUCTS IN CART\")\n",
    "                    for element in cart:\n",
    "                        print(f\"{element['name']} - {element['quantity']} units - ${element['price'] * element['quantity']}\")\n",
    "                    print(\" \")\n",
    "                    print(f\"Your current total is ${total}\")\n",
    "                    print(\" \")\n",
    "                break  # Exit the for loop of the inventory"
   ]
  },
  {
   "cell_type": "code",
   "execution_count": 49,
   "id": "ca420efa",
   "metadata": {},
   "outputs": [
    {
     "name": "stdout",
     "output_type": "stream",
     "text": [
      "Welcome to the store, Julia!\n",
      "You can exit at any time by typing 'exit'.\n",
      "\n",
      "AVAILABLE PRODUCTS\n",
      "Shirt - $20.0 - 37 units\n",
      "Socks - $10.0 - 8 units\n",
      "Pants - $20.0 - 14 units\n",
      "Dress - $15.0 - 20 units\n",
      "   \n",
      "Product: Shirt. Current stock: 33. Updated.\n",
      " \n",
      "You added 4 units of Shirt to the cart.\n",
      " \n",
      "PRODUCTS IN CART\n",
      "Shirt - 4 units - $80.0\n",
      " \n",
      "Your current total is $80.0\n",
      " \n",
      "\n",
      "AVAILABLE PRODUCTS\n",
      "Shirt - $20.0 - 33 units\n",
      "Socks - $10.0 - 8 units\n",
      "Pants - $20.0 - 14 units\n",
      "Dress - $15.0 - 20 units\n",
      "   \n",
      "Product: Dress. Current stock: 18. Updated.\n",
      " \n",
      "You added 2 units of Dress to the cart.\n",
      " \n",
      "PRODUCTS IN CART\n",
      "Shirt - 4 units - $80.0\n",
      "Dress - 2 units - $30.0\n",
      " \n",
      "Your current total is $110.0\n",
      " \n",
      "\n",
      "AVAILABLE PRODUCTS\n",
      "Shirt - $20.0 - 33 units\n",
      "Socks - $10.0 - 8 units\n",
      "Pants - $20.0 - 14 units\n",
      "Dress - $15.0 - 18 units\n",
      "   \n",
      " \n",
      "The product 9 is not available in the store.\n",
      "Please choose another product.\n",
      "\n",
      "AVAILABLE PRODUCTS\n",
      "Shirt - $20.0 - 33 units\n",
      "Socks - $10.0 - 8 units\n",
      "Pants - $20.0 - 14 units\n",
      "Dress - $15.0 - 18 units\n",
      "   \n",
      " \n",
      "The product 9 is not available in the store.\n",
      "Please choose another product.\n",
      "\n",
      "AVAILABLE PRODUCTS\n",
      "Shirt - $20.0 - 33 units\n",
      "Socks - $10.0 - 8 units\n",
      "Pants - $20.0 - 14 units\n",
      "Dress - $15.0 - 18 units\n",
      "   \n",
      "Product: Pants. Current stock: 11. Updated.\n",
      " \n",
      "You added 3 units of Pants to the cart.\n",
      " \n",
      "PRODUCTS IN CART\n",
      "Shirt - 4 units - $80.0\n",
      "Dress - 2 units - $30.0\n",
      "Pants - 3 units - $60.0\n",
      " \n",
      "Your current total is $170.0\n",
      " \n",
      "\n",
      "AVAILABLE PRODUCTS\n",
      "Shirt - $20.0 - 33 units\n",
      "Socks - $10.0 - 8 units\n",
      "Pants - $20.0 - 11 units\n",
      "Dress - $15.0 - 18 units\n",
      "   \n",
      "\n",
      "You have products in your cart.\n",
      "\n",
      "Your purchase summary:\n",
      "\n",
      "Shirt - 4 units - $80.0\n",
      "Dress - 2 units - $30.0\n",
      "Pants - 3 units - $60.0\n",
      "\n",
      "Your total is $170.0\n",
      "The amount entered is $200.0\n",
      "\n",
      "Thank you for your payment of $200.0. Your change is $30.0.\n",
      "Your purchase was successful.\n",
      "\n",
      "Thank you for your purchase, come back soon Julia!\n"
     ]
    }
   ],
   "source": [
    "# Make an interactive purchase\n",
    "make_purchase()\n",
    "   "
   ]
  }
 ],
 "metadata": {
  "kernelspec": {
   "display_name": "base",
   "language": "python",
   "name": "python3"
  },
  "language_info": {
   "codemirror_mode": {
    "name": "ipython",
    "version": 3
   },
   "file_extension": ".py",
   "mimetype": "text/x-python",
   "name": "python",
   "nbconvert_exporter": "python",
   "pygments_lexer": "ipython3",
   "version": "3.12.7"
  }
 },
 "nbformat": 4,
 "nbformat_minor": 5
}
